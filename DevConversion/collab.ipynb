{
 "cells": [
  {
   "cell_type": "code",
   "execution_count": 16,
   "metadata": {},
   "outputs": [],
   "source": [
    "import pandas as pd\n",
    "import os\n"
   ]
  },
  {
   "cell_type": "code",
   "execution_count": 17,
   "metadata": {},
   "outputs": [
    {
     "data": {
      "text/html": [
       "<div>\n",
       "<style scoped>\n",
       "    .dataframe tbody tr th:only-of-type {\n",
       "        vertical-align: middle;\n",
       "    }\n",
       "\n",
       "    .dataframe tbody tr th {\n",
       "        vertical-align: top;\n",
       "    }\n",
       "\n",
       "    .dataframe thead th {\n",
       "        text-align: right;\n",
       "    }\n",
       "</style>\n",
       "<table border=\"1\" class=\"dataframe\">\n",
       "  <thead>\n",
       "    <tr style=\"text-align: right;\">\n",
       "      <th></th>\n",
       "      <th># WELL TRACE FROM PETREL</th>\n",
       "    </tr>\n",
       "  </thead>\n",
       "  <tbody>\n",
       "    <tr>\n",
       "      <th>0</th>\n",
       "      <td># WELL NAME:              Sajaa_1_L2_(Leg_D)</td>\n",
       "    </tr>\n",
       "    <tr>\n",
       "      <th>1</th>\n",
       "      <td># DEFINITIVE SURVEY:      MD Incl Azim survey 1</td>\n",
       "    </tr>\n",
       "    <tr>\n",
       "      <th>2</th>\n",
       "      <td># WELL HEAD X-COORDINATE: 367925.56000000 (m)</td>\n",
       "    </tr>\n",
       "    <tr>\n",
       "      <th>3</th>\n",
       "      <td># WELL HEAD Y-COORDINATE: 2802346.56000000 (m)</td>\n",
       "    </tr>\n",
       "    <tr>\n",
       "      <th>4</th>\n",
       "      <td># WELL DATUM (KB, Kelly bushing, from MSL): 25...</td>\n",
       "    </tr>\n",
       "    <tr>\n",
       "      <th>...</th>\n",
       "      <td>...</td>\n",
       "    </tr>\n",
       "    <tr>\n",
       "      <th>254</th>\n",
       "      <td>14448.233333 368553.57941 2802849.2553 -11966...</td>\n",
       "    </tr>\n",
       "    <tr>\n",
       "      <th>255</th>\n",
       "      <td>14461.970000 368555.16079 2802853.1249 -11967...</td>\n",
       "    </tr>\n",
       "    <tr>\n",
       "      <th>256</th>\n",
       "      <td>14474.646667 368556.69271 2802856.6649 -11967...</td>\n",
       "    </tr>\n",
       "    <tr>\n",
       "      <th>257</th>\n",
       "      <td>14487.323333 368558.28843 2802860.1762 -11968...</td>\n",
       "    </tr>\n",
       "    <tr>\n",
       "      <th>258</th>\n",
       "      <td>14500.000000 368559.94743 2802863.6575 -11969...</td>\n",
       "    </tr>\n",
       "  </tbody>\n",
       "</table>\n",
       "<p>259 rows × 1 columns</p>\n",
       "</div>"
      ],
      "text/plain": [
       "                             # WELL TRACE FROM PETREL \n",
       "0         # WELL NAME:              Sajaa_1_L2_(Leg_D)\n",
       "1      # DEFINITIVE SURVEY:      MD Incl Azim survey 1\n",
       "2        # WELL HEAD X-COORDINATE: 367925.56000000 (m)\n",
       "3       # WELL HEAD Y-COORDINATE: 2802346.56000000 (m)\n",
       "4    # WELL DATUM (KB, Kelly bushing, from MSL): 25...\n",
       "..                                                 ...\n",
       "254   14448.233333 368553.57941 2802849.2553 -11966...\n",
       "255   14461.970000 368555.16079 2802853.1249 -11967...\n",
       "256   14474.646667 368556.69271 2802856.6649 -11967...\n",
       "257   14487.323333 368558.28843 2802860.1762 -11968...\n",
       "258   14500.000000 368559.94743 2802863.6575 -11969...\n",
       "\n",
       "[259 rows x 1 columns]"
      ]
     },
     "execution_count": 17,
     "metadata": {},
     "output_type": "execute_result"
    }
   ],
   "source": [
    "df = pd.read_csv(\"Sajaa_1_L2_(Leg_D).dev\", delimiter='\\t')\n",
    "df\n"
   ]
  },
  {
   "cell_type": "code",
   "execution_count": 18,
   "metadata": {},
   "outputs": [
    {
     "name": "stdout",
     "output_type": "stream",
     "text": [
      "Combined data saved to combined_data.xlsx\n"
     ]
    }
   ],
   "source": [
    "dev_files_dir = r'C:\\Users\\Pratham\\OneDrive\\Desktop\\Intenship\\DevConversion\\Sajaa 1'\n",
    "\n",
    "dfs = []\n",
    "\n",
    "for filename in os.listdir(dev_files_dir):\n",
    "    if filename.endswith('.dev'):\n",
    "        df = pd.read_csv(os.path.join(dev_files_dir, filename), delimiter='\\t')\n",
    "        \n",
    "        df['Name'] = filename[:-4]  \n",
    "        dfs.append(df)\n",
    "\n",
    "combined_df = pd.concat(dfs, ignore_index=True)\n",
    "\n",
    "excel_file_path = 'combined_data.xlsx'\n",
    "combined_df.to_excel(excel_file_path, index=False)\n",
    "\n",
    "print(f\"Combined data saved to {excel_file_path}\")\n"
   ]
  },
  {
   "cell_type": "code",
   "execution_count": 19,
   "metadata": {},
   "outputs": [],
   "source": [
    "df2 = pd.read_excel(\"combined_data.xlsx\")"
   ]
  },
  {
   "cell_type": "code",
   "execution_count": 20,
   "metadata": {},
   "outputs": [
    {
     "data": {
      "text/html": [
       "<div>\n",
       "<style scoped>\n",
       "    .dataframe tbody tr th:only-of-type {\n",
       "        vertical-align: middle;\n",
       "    }\n",
       "\n",
       "    .dataframe tbody tr th {\n",
       "        vertical-align: top;\n",
       "    }\n",
       "\n",
       "    .dataframe thead th {\n",
       "        text-align: right;\n",
       "    }\n",
       "</style>\n",
       "<table border=\"1\" class=\"dataframe\">\n",
       "  <thead>\n",
       "    <tr style=\"text-align: right;\">\n",
       "      <th></th>\n",
       "      <th># WELL TRACE FROM PETREL</th>\n",
       "      <th>Name</th>\n",
       "    </tr>\n",
       "  </thead>\n",
       "  <tbody>\n",
       "    <tr>\n",
       "      <th>0</th>\n",
       "      <td># WELL NAME:              Sajaa1</td>\n",
       "      <td>Sajaa1</td>\n",
       "    </tr>\n",
       "    <tr>\n",
       "      <th>1</th>\n",
       "      <td># DEFINITIVE SURVEY:      Explicit survey 1</td>\n",
       "      <td>Sajaa1</td>\n",
       "    </tr>\n",
       "    <tr>\n",
       "      <th>2</th>\n",
       "      <td># WELL HEAD X-COORDINATE: 367925.56000000 (m)</td>\n",
       "      <td>Sajaa1</td>\n",
       "    </tr>\n",
       "    <tr>\n",
       "      <th>3</th>\n",
       "      <td># WELL HEAD Y-COORDINATE: 2802346.56000000 (m)</td>\n",
       "      <td>Sajaa1</td>\n",
       "    </tr>\n",
       "    <tr>\n",
       "      <th>4</th>\n",
       "      <td># WELL DATUM (KB, Kelly bushing, from MSL): 25...</td>\n",
       "      <td>Sajaa1</td>\n",
       "    </tr>\n",
       "    <tr>\n",
       "      <th>...</th>\n",
       "      <td>...</td>\n",
       "      <td>...</td>\n",
       "    </tr>\n",
       "    <tr>\n",
       "      <th>2097</th>\n",
       "      <td>13889.066667 368189.85205 2801325.3564 -10183...</td>\n",
       "      <td>Sajaa_1_L8_(Leg_G)</td>\n",
       "    </tr>\n",
       "    <tr>\n",
       "      <th>2098</th>\n",
       "      <td>13898.300000 368191.08918 2801322.8331 -10184...</td>\n",
       "      <td>Sajaa_1_L8_(Leg_G)</td>\n",
       "    </tr>\n",
       "    <tr>\n",
       "      <th>2099</th>\n",
       "      <td>13916.533333 368193.64392 2801317.9079 -10185...</td>\n",
       "      <td>Sajaa_1_L8_(Leg_G)</td>\n",
       "    </tr>\n",
       "    <tr>\n",
       "      <th>2100</th>\n",
       "      <td>13934.766667 368196.33773 2801313.0581 -10186...</td>\n",
       "      <td>Sajaa_1_L8_(Leg_G)</td>\n",
       "    </tr>\n",
       "    <tr>\n",
       "      <th>2101</th>\n",
       "      <td>13953.000000 368199.16842 2801308.2875 -10187...</td>\n",
       "      <td>Sajaa_1_L8_(Leg_G)</td>\n",
       "    </tr>\n",
       "  </tbody>\n",
       "</table>\n",
       "<p>2102 rows × 2 columns</p>\n",
       "</div>"
      ],
      "text/plain": [
       "                              # WELL TRACE FROM PETREL                 Name\n",
       "0                      # WELL NAME:              Sajaa1              Sajaa1\n",
       "1           # DEFINITIVE SURVEY:      Explicit survey 1              Sajaa1\n",
       "2         # WELL HEAD X-COORDINATE: 367925.56000000 (m)              Sajaa1\n",
       "3        # WELL HEAD Y-COORDINATE: 2802346.56000000 (m)              Sajaa1\n",
       "4     # WELL DATUM (KB, Kelly bushing, from MSL): 25...              Sajaa1\n",
       "...                                                 ...                 ...\n",
       "2097   13889.066667 368189.85205 2801325.3564 -10183...  Sajaa_1_L8_(Leg_G)\n",
       "2098   13898.300000 368191.08918 2801322.8331 -10184...  Sajaa_1_L8_(Leg_G)\n",
       "2099   13916.533333 368193.64392 2801317.9079 -10185...  Sajaa_1_L8_(Leg_G)\n",
       "2100   13934.766667 368196.33773 2801313.0581 -10186...  Sajaa_1_L8_(Leg_G)\n",
       "2101   13953.000000 368199.16842 2801308.2875 -10187...  Sajaa_1_L8_(Leg_G)\n",
       "\n",
       "[2102 rows x 2 columns]"
      ]
     },
     "execution_count": 20,
     "metadata": {},
     "output_type": "execute_result"
    }
   ],
   "source": [
    "df2"
   ]
  },
  {
   "cell_type": "code",
   "execution_count": null,
   "metadata": {},
   "outputs": [],
   "source": []
  }
 ],
 "metadata": {
  "kernelspec": {
   "display_name": "Python 3",
   "language": "python",
   "name": "python3"
  },
  "language_info": {
   "codemirror_mode": {
    "name": "ipython",
    "version": 3
   },
   "file_extension": ".py",
   "mimetype": "text/x-python",
   "name": "python",
   "nbconvert_exporter": "python",
   "pygments_lexer": "ipython3",
   "version": "3.12.0"
  }
 },
 "nbformat": 4,
 "nbformat_minor": 2
}
