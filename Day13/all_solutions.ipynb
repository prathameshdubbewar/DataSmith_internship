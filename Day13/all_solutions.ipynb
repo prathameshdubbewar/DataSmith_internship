{
 "cells": [
  {
   "cell_type": "markdown",
   "metadata": {},
   "source": [
    "##### 1--- avg cost for two"
   ]
  },
  {
   "cell_type": "code",
   "execution_count": 34,
   "metadata": {},
   "outputs": [],
   "source": [
    "import pandas as pd"
   ]
  },
  {
   "cell_type": "code",
   "execution_count": 35,
   "metadata": {},
   "outputs": [],
   "source": [
    "df = pd.read_csv(\"Zomato.csv\",encoding='latin1')"
   ]
  },
  {
   "cell_type": "code",
   "execution_count": 36,
   "metadata": {},
   "outputs": [
    {
     "name": "stdout",
     "output_type": "stream",
     "text": [
      "City\n",
      "Abu Dhabi           182.000000\n",
      "Agra               1065.000000\n",
      "Ahmedabad           857.142857\n",
      "Albany               19.750000\n",
      "Allahabad           517.500000\n",
      "                      ...     \n",
      "Weirton              25.000000\n",
      "Wellington City      71.250000\n",
      "Winchester Bay       25.000000\n",
      "Yorkton              25.000000\n",
      "ÛÁstanbul            81.428571\n",
      "Name: Average Cost for two, Length: 141, dtype: float64\n"
     ]
    }
   ],
   "source": [
    "avg_per_city = df.groupby('City')['Average Cost for two'].mean()\n",
    "\n",
    "print(avg_per_city)"
   ]
  },
  {
   "cell_type": "markdown",
   "metadata": {},
   "source": [
    "#### 2--highest rating restaurant"
   ]
  },
  {
   "cell_type": "code",
   "execution_count": 37,
   "metadata": {},
   "outputs": [
    {
     "data": {
      "text/plain": [
       "City\n",
       "Abu Dhabi          4.300000\n",
       "Agra               3.965000\n",
       "Ahmedabad          4.161905\n",
       "Albany             3.555000\n",
       "Allahabad          3.395000\n",
       "                     ...   \n",
       "Weirton            3.900000\n",
       "Wellington City    4.250000\n",
       "Winchester Bay     3.200000\n",
       "Yorkton            3.300000\n",
       "ÛÁstanbul          4.292857\n",
       "Name: Aggregate rating, Length: 141, dtype: float64"
      ]
     },
     "execution_count": 37,
     "metadata": {},
     "output_type": "execute_result"
    }
   ],
   "source": [
    "max_rating = df.groupby('City')['Aggregate rating'].mean()\n",
    "max_rating"
   ]
  },
  {
   "cell_type": "code",
   "execution_count": 38,
   "metadata": {},
   "outputs": [
    {
     "name": "stdout",
     "output_type": "stream",
     "text": [
      "Inner City\n",
      "with score of: 4.9\n"
     ]
    }
   ],
   "source": [
    "\n",
    "city_highest = max_rating.idxmax()\n",
    "highest_avg_rating = max_rating.max()\n",
    "\n",
    "\n",
    "print(city_highest)\n",
    "print(\"with score of:\",highest_avg_rating)"
   ]
  },
  {
   "cell_type": "markdown",
   "metadata": {},
   "source": [
    "#### 3----online delivery available vs not"
   ]
  },
  {
   "cell_type": "code",
   "execution_count": 39,
   "metadata": {},
   "outputs": [
    {
     "name": "stdout",
     "output_type": "stream",
     "text": [
      "Distribution of restaurants:\n",
      "Has Online delivery\n",
      "No     7100\n",
      "Yes    2451\n",
      "Name: count, dtype: int64\n"
     ]
    }
   ],
   "source": [
    "del_dist = df['Has Online delivery'].value_counts()\n",
    "\n",
    "print(\"Distribution of restaurants:\")\n",
    "print(del_dist)\n"
   ]
  },
  {
   "cell_type": "markdown",
   "metadata": {},
   "source": [
    "#### 4--- avg votes group by price range"
   ]
  },
  {
   "cell_type": "code",
   "execution_count": 40,
   "metadata": {},
   "outputs": [
    {
     "name": "stdout",
     "output_type": "stream",
     "text": [
      "Average number of votes :\n",
      "Price range\n",
      "1     44.597435\n",
      "2    147.607131\n",
      "3    443.860795\n",
      "4    368.595563\n",
      "Name: Votes, dtype: float64\n"
     ]
    }
   ],
   "source": [
    "avg_votes = df.groupby('Price range')['Votes'].mean()\n",
    "\n",
    "print(\"Average number of votes :\")\n",
    "print(avg_votes)\n"
   ]
  },
  {
   "cell_type": "markdown",
   "metadata": {},
   "source": [
    "#### 5----highest no of restaurants"
   ]
  },
  {
   "cell_type": "code",
   "execution_count": 41,
   "metadata": {},
   "outputs": [
    {
     "name": "stdout",
     "output_type": "stream",
     "text": [
      "Locality with the highest restaurants is: Connaught Place\n"
     ]
    }
   ],
   "source": [
    "locality_counts = df['Locality'].value_counts()\n",
    "\n",
    "most_restaurants = locality_counts.idxmax()\n",
    "\n",
    "print(\"Locality with the highest restaurants is:\", most_restaurants)\n"
   ]
  },
  {
   "cell_type": "markdown",
   "metadata": {},
   "source": [
    "#### 6--- top crusines"
   ]
  },
  {
   "cell_type": "code",
   "execution_count": 42,
   "metadata": {},
   "outputs": [
    {
     "name": "stdout",
     "output_type": "stream",
     "text": [
      "Top cuisines served in each city:\n",
      "City\n",
      "Abu Dhabi          North Indian\n",
      "Agra               North Indian\n",
      "Ahmedabad          North Indian\n",
      "Albany             North Indian\n",
      "Allahabad          North Indian\n",
      "                       ...     \n",
      "Weirton            North Indian\n",
      "Wellington City    North Indian\n",
      "Winchester Bay     North Indian\n",
      "Yorkton            North Indian\n",
      "ÛÁstanbul          North Indian\n",
      "Length: 141, dtype: object\n"
     ]
    }
   ],
   "source": [
    "def get_cuisine(a):\n",
    "    cuisines = df['Cuisines'].str.split(', ').explode()\n",
    "    cuisine_counts = cuisines.value_counts()\n",
    "    top_cuisine = cuisine_counts.idxmax()\n",
    "    return top_cuisine\n",
    "\n",
    "cuisines_by_city = df.groupby('City').apply(get_cuisine)\n",
    "\n",
    "print(\"Top cuisines served in each city:\")\n",
    "print(cuisines_by_city)\n"
   ]
  },
  {
   "cell_type": "markdown",
   "metadata": {},
   "source": [
    "#### 7--- Aggregate rating for restaurant having  swirch to order menu and online delivery\n"
   ]
  },
  {
   "cell_type": "code",
   "execution_count": 43,
   "metadata": {},
   "outputs": [
    {
     "name": "stdout",
     "output_type": "stream",
     "text": [
      "Switch to order menu  Has Online delivery\n",
      "No                    No                     2.465296\n",
      "                      Yes                    3.248837\n",
      "Name: Aggregate rating, dtype: float64\n"
     ]
    }
   ],
   "source": [
    "\n",
    "grouped = df.groupby([\"Switch to order menu\", \"Has Online delivery\"])\n",
    "\n",
    "avg_rating = grouped[\"Aggregate rating\"].mean()\n",
    "\n",
    "print(avg_rating)\n"
   ]
  },
  {
   "cell_type": "markdown",
   "metadata": {},
   "source": [
    "#### 8-- table booking available vs no ratings"
   ]
  },
  {
   "cell_type": "code",
   "execution_count": 45,
   "metadata": {},
   "outputs": [
    {
     "name": "stdout",
     "output_type": "stream",
     "text": [
      "City             Has Table booking\n",
      "Abu Dhabi        No                   4.235714\n",
      "                 Yes                  4.450000\n",
      "Agra             No                   3.965000\n",
      "Ahmedabad        No                   4.161905\n",
      "Albany           No                   3.555000\n",
      "                                        ...   \n",
      "Weirton          No                   3.900000\n",
      "Wellington City  No                   4.250000\n",
      "Winchester Bay   No                   3.200000\n",
      "Yorkton          No                   3.300000\n",
      "ÛÁstanbul        No                   4.292857\n",
      "Name: Aggregate rating, Length: 165, dtype: float64\n"
     ]
    }
   ],
   "source": [
    "group= df.groupby([\"City\", \"Has Table booking\"])\n",
    "\n",
    "average_rating = group[\"Aggregate rating\"].mean()\n",
    "\n",
    "print(average_rating)\n"
   ]
  },
  {
   "cell_type": "markdown",
   "metadata": {},
   "source": [
    "#### 9_total rating colors"
   ]
  },
  {
   "cell_type": "code",
   "execution_count": 46,
   "metadata": {},
   "outputs": [
    {
     "name": "stdout",
     "output_type": "stream",
     "text": [
      "Rating color\n",
      "Orange        3737\n",
      "White         2148\n",
      "Yellow        2100\n",
      "Green         1079\n",
      "Dark Green     301\n",
      "Red            186\n",
      "Name: count, dtype: int64\n"
     ]
    }
   ],
   "source": [
    "rating_color= df[\"Rating color\"].value_counts()\n",
    "\n",
    "print(rating_color)"
   ]
  },
  {
   "cell_type": "markdown",
   "metadata": {},
   "source": [
    "#### 10 avg rating for restaurant in each country"
   ]
  },
  {
   "cell_type": "code",
   "execution_count": 47,
   "metadata": {},
   "outputs": [
    {
     "name": "stdout",
     "output_type": "stream",
     "text": [
      "Country Code\n",
      "1      2.523324\n",
      "14     3.658333\n",
      "30     3.763333\n",
      "37     3.575000\n",
      "94     4.295238\n",
      "148    4.262500\n",
      "162    4.468182\n",
      "166    4.060000\n",
      "184    3.575000\n",
      "189    4.210000\n",
      "191    3.870000\n",
      "208    4.300000\n",
      "214    4.233333\n",
      "215    4.087500\n",
      "216    4.004378\n",
      "Name: Aggregate rating, dtype: float64\n"
     ]
    }
   ],
   "source": [
    "avg_rating = df.groupby(\"Country Code\")[\"Aggregate rating\"].mean()\n",
    "\n",
    "print(avg_rating)\n"
   ]
  }
 ],
 "metadata": {
  "kernelspec": {
   "display_name": "Python 3",
   "language": "python",
   "name": "python3"
  },
  "language_info": {
   "codemirror_mode": {
    "name": "ipython",
    "version": 3
   },
   "file_extension": ".py",
   "mimetype": "text/x-python",
   "name": "python",
   "nbconvert_exporter": "python",
   "pygments_lexer": "ipython3",
   "version": "3.12.0"
  }
 },
 "nbformat": 4,
 "nbformat_minor": 2
}
