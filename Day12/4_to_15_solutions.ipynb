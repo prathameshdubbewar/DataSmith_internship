{
 "cells": [
  {
   "cell_type": "code",
   "execution_count": 2,
   "metadata": {},
   "outputs": [],
   "source": [
    "import pandas as pd"
   ]
  },
  {
   "cell_type": "code",
   "execution_count": 3,
   "metadata": {},
   "outputs": [],
   "source": [
    "df = pd.read_csv(\"Zomato.csv\", encoding='latin1')"
   ]
  },
  {
   "cell_type": "code",
   "execution_count": 4,
   "metadata": {},
   "outputs": [
    {
     "data": {
      "text/plain": [
       "0     0             French\n",
       "      1           Japanese\n",
       "      2           Desserts\n",
       "1     0           Japanese\n",
       "2     0            Seafood\n",
       "                ...       \n",
       "9547  2               Cafe\n",
       "9548  0            Italian\n",
       "      1      World Cuisine\n",
       "9549  0    Restaurant Cafe\n",
       "9550  0               Cafe\n",
       "Length: 19710, dtype: object"
      ]
     },
     "execution_count": 4,
     "metadata": {},
     "output_type": "execute_result"
    }
   ],
   "source": [
    "cuisines = df['Cuisines'].str.split(', ', expand=True)\n",
    "cuisines = cuisines.stack()\n",
    "cuisines\n"
   ]
  },
  {
   "cell_type": "code",
   "execution_count": 5,
   "metadata": {},
   "outputs": [
    {
     "name": "stdout",
     "output_type": "stream",
     "text": [
      "North Indian    3960\n",
      "Chinese         2735\n",
      "Fast Food       1986\n",
      "Mughlai          995\n",
      "Italian          764\n",
      "Name: count, dtype: int64\n"
     ]
    }
   ],
   "source": [
    "\n",
    "top_cuisines = cuisines.value_counts().head(5)\n",
    "\n",
    "print(top_cuisines)\n"
   ]
  },
  {
   "cell_type": "markdown",
   "metadata": {},
   "source": [
    "###  5 -- Restaurant Distribution using price range"
   ]
  },
  {
   "cell_type": "code",
   "execution_count": 6,
   "metadata": {},
   "outputs": [
    {
     "name": "stdout",
     "output_type": "stream",
     "text": [
      "Distribution of restaurants is:\n",
      "Price range\n",
      "1    4444\n",
      "2    3113\n",
      "3    1408\n",
      "4     586\n",
      "Name: count, dtype: int64\n"
     ]
    }
   ],
   "source": [
    "price_range_distribution = df['Price range'].value_counts()\n",
    "\n",
    "print(\"Distribution of restaurants is:\")\n",
    "print(price_range_distribution)\n"
   ]
  },
  {
   "cell_type": "markdown",
   "metadata": {},
   "source": [
    "#### 6-- Correlation of average cost and aggregate rating"
   ]
  },
  {
   "cell_type": "code",
   "execution_count": 7,
   "metadata": {},
   "outputs": [
    {
     "name": "stdout",
     "output_type": "stream",
     "text": [
      "Correlation is : 0.05179202394973495\n"
     ]
    }
   ],
   "source": [
    "correlation = df['Average Cost for two'].corr(df['Aggregate rating'])\n",
    "\n",
    "print(\"Correlation is :\", correlation)\n"
   ]
  },
  {
   "cell_type": "markdown",
   "metadata": {},
   "source": [
    "#### 7 --- avg rating for booking vs non- booking"
   ]
  },
  {
   "cell_type": "code",
   "execution_count": 8,
   "metadata": {},
   "outputs": [
    {
     "name": "stdout",
     "output_type": "stream",
     "text": [
      "Average Rating :\n",
      "Has Table booking\n",
      "No     2.559359\n",
      "Yes    3.441969\n",
      "Name: Aggregate rating, dtype: float64\n"
     ]
    }
   ],
   "source": [
    "avg_rating= df.groupby('Has Table booking')['Aggregate rating'].mean()\n",
    "\n",
    "print(\"Average Rating :\")\n",
    "print(avg_rating)\n"
   ]
  },
  {
   "cell_type": "markdown",
   "metadata": {},
   "source": [
    "##### 8--- Avg rating of online delivery vs not"
   ]
  },
  {
   "cell_type": "code",
   "execution_count": 9,
   "metadata": {},
   "outputs": [
    {
     "name": "stdout",
     "output_type": "stream",
     "text": [
      "Average Rating :\n",
      "Has Online delivery\n",
      "No     2.465296\n",
      "Yes    3.248837\n",
      "Name: Aggregate rating, dtype: float64\n"
     ]
    }
   ],
   "source": [
    "avg_rating= df.groupby('Has Online delivery')['Aggregate rating'].mean()\n",
    "\n",
    "print(\"Average Rating :\")\n",
    "print(avg_rating)\n"
   ]
  },
  {
   "cell_type": "markdown",
   "metadata": {},
   "source": [
    "##### 9--- Avg rating of online delivery now available vs not"
   ]
  },
  {
   "cell_type": "code",
   "execution_count": 10,
   "metadata": {},
   "outputs": [
    {
     "name": "stdout",
     "output_type": "stream",
     "text": [
      "Average Rating :\n",
      "Is delivering now\n",
      "No     2.664632\n",
      "Yes    3.152941\n",
      "Name: Aggregate rating, dtype: float64\n"
     ]
    }
   ],
   "source": [
    "avg_rating= df.groupby('Is delivering now')['Aggregate rating'].mean()\n",
    "\n",
    "print(\"Average Rating :\")\n",
    "print(avg_rating)\n"
   ]
  },
  {
   "cell_type": "markdown",
   "metadata": {},
   "source": [
    "#### 10--- top restaurants delivering"
   ]
  },
  {
   "cell_type": "code",
   "execution_count": 11,
   "metadata": {},
   "outputs": [
    {
     "name": "stdout",
     "output_type": "stream",
     "text": [
      "Top-rated Restaurants currently delivering:\n",
      "      Restaurant ID      Restaurant Name  Country Code       City  \\\n",
      "4206       18421049  Midnight Hunger Hub             1  New Delhi   \n",
      "\n",
      "                   Address   Locality      Locality Verbose  Longitude  \\\n",
      "4206  Janakpuri, New Delhi  Janakpuri  Janakpuri, New Delhi  77.090076   \n",
      "\n",
      "       Latitude                                 Cuisines  ...  \\\n",
      "4206  28.612279  North Indian, Fast Food, Italian, Asian  ...   \n",
      "\n",
      "                Currency Has Table booking Has Online delivery  \\\n",
      "4206  Indian Rupees(Rs.)                No                 Yes   \n",
      "\n",
      "     Is delivering now Switch to order menu Price range  Aggregate rating  \\\n",
      "4206               Yes                   No           2               4.5   \n",
      "\n",
      "      Rating color Rating text Votes  \n",
      "4206    Dark Green   Excellent    50  \n",
      "\n",
      "[1 rows x 21 columns]\n"
     ]
    }
   ],
   "source": [
    "delivering_restau = df[df['Is delivering now'] == 'Yes']\n",
    "top_restau = delivering_restau[delivering_restau['Aggregate rating'] == delivering_restau['Aggregate rating'].max()]\n",
    "\n",
    "print(\"Top-rated Restaurants currently delivering:\")\n",
    "print(top_restau)\n"
   ]
  },
  {
   "cell_type": "markdown",
   "metadata": {},
   "source": [
    "#### 11-- relation betwn price range and avg cost for two"
   ]
  },
  {
   "cell_type": "code",
   "execution_count": 12,
   "metadata": {},
   "outputs": [
    {
     "name": "stdout",
     "output_type": "stream",
     "text": [
      "Relationship between is:\n",
      "Price range\n",
      "1     275.182943\n",
      "2     596.826213\n",
      "3    5177.268466\n",
      "4    1848.523891\n",
      "Name: Average Cost for two, dtype: float64\n"
     ]
    }
   ],
   "source": [
    "price_range_avg_cost = df.groupby('Price range')['Average Cost for two'].mean()\n",
    "\n",
    "print(\"Relationship between is:\")\n",
    "print(price_range_avg_cost)\n"
   ]
  },
  {
   "cell_type": "markdown",
   "metadata": {},
   "source": [
    "#### 12-- common rating text"
   ]
  },
  {
   "cell_type": "code",
   "execution_count": 13,
   "metadata": {},
   "outputs": [
    {
     "name": "stdout",
     "output_type": "stream",
     "text": [
      "Most common rating text: Average\n"
     ]
    }
   ],
   "source": [
    "most_common_rating = df['Rating text'].value_counts().idxmax()\n",
    "\n",
    "print(\"Most common rating text:\", most_common_rating)\n"
   ]
  },
  {
   "cell_type": "markdown",
   "metadata": {},
   "source": [
    "#### 13---avg votes for restaurant in each city"
   ]
  },
  {
   "cell_type": "code",
   "execution_count": 14,
   "metadata": {},
   "outputs": [
    {
     "name": "stdout",
     "output_type": "stream",
     "text": [
      "Average number of votes:\n",
      "City\n",
      "Abu Dhabi          302.250000\n",
      "Agra               103.100000\n",
      "Ahmedabad          584.095238\n",
      "Albany              83.800000\n",
      "Allahabad           69.600000\n",
      "                      ...    \n",
      "Weirton            156.000000\n",
      "Wellington City    146.300000\n",
      "Winchester Bay      16.000000\n",
      "Yorkton             26.000000\n",
      "ÛÁstanbul          860.214286\n",
      "Name: Votes, Length: 141, dtype: float64\n"
     ]
    }
   ],
   "source": [
    "average_votes = df.groupby('City')['Votes'].mean()\n",
    "\n",
    "print(\"Average number of votes:\")\n",
    "print(average_votes)\n"
   ]
  },
  {
   "cell_type": "markdown",
   "metadata": {},
   "source": [
    "### 14--calculate the mean of Aggregate rating for each locality\n"
   ]
  },
  {
   "cell_type": "code",
   "execution_count": 15,
   "metadata": {},
   "outputs": [
    {
     "name": "stdout",
     "output_type": "stream",
     "text": [
      "Average rating for restaurants in each locality:\n",
      "Locality\n",
      " ILD Trade Centre Mall, Sohna Road     3.050000\n",
      "12th Square Building, Banjara Hills    4.300000\n",
      "A Hotel, Gurdev Nagar                  3.600000\n",
      "ARSS Mall, Paschim Vihar               3.100000\n",
      "Aaya Nagar                             0.000000\n",
      "                                         ...   \n",
      "ibis New Delhi, Aerocity               1.550000\n",
      "íguas Claras                          3.666667\n",
      "íayyolu                               4.300000\n",
      "íukurambar                            3.400000\n",
      "íìmitkí_y                              4.200000\n",
      "Name: Aggregate rating, Length: 1208, dtype: float64\n"
     ]
    }
   ],
   "source": [
    "average_rating = df.groupby('Locality')['Aggregate rating'].mean()\n",
    "\n",
    "print(\"Average rating for restaurants in each locality:\")\n",
    "print(average_rating)\n"
   ]
  },
  {
   "cell_type": "markdown",
   "metadata": {},
   "source": [
    "#### 15--- menu switch option  available vs not"
   ]
  },
  {
   "cell_type": "code",
   "execution_count": 16,
   "metadata": {},
   "outputs": [
    {
     "name": "stdout",
     "output_type": "stream",
     "text": [
      "Average rating having menu switch option:\n",
      "Switch to order menu\n",
      "No    2.66637\n",
      "Name: Aggregate rating, dtype: float64\n"
     ]
    }
   ],
   "source": [
    "avg_rating = df.groupby('Switch to order menu')['Aggregate rating'].mean()\n",
    "\n",
    "print(\"Average rating having menu switch option:\")\n",
    "print(avg_rating)\n"
   ]
  },
  {
   "cell_type": "code",
   "execution_count": null,
   "metadata": {},
   "outputs": [],
   "source": []
  }
 ],
 "metadata": {
  "kernelspec": {
   "display_name": "Python 3",
   "language": "python",
   "name": "python3"
  },
  "language_info": {
   "codemirror_mode": {
    "name": "ipython",
    "version": 3
   },
   "file_extension": ".py",
   "mimetype": "text/x-python",
   "name": "python",
   "nbconvert_exporter": "python",
   "pygments_lexer": "ipython3",
   "version": "3.12.0"
  }
 },
 "nbformat": 4,
 "nbformat_minor": 2
}
