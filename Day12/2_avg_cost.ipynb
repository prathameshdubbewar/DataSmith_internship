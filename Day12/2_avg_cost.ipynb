{
 "cells": [
  {
   "cell_type": "code",
   "execution_count": 2,
   "metadata": {},
   "outputs": [],
   "source": [
    "import pandas as pd"
   ]
  },
  {
   "cell_type": "code",
   "execution_count": 4,
   "metadata": {},
   "outputs": [],
   "source": [
    "df = pd.read_csv(\"Zomato.csv\",encoding='latin1')"
   ]
  },
  {
   "cell_type": "code",
   "execution_count": 5,
   "metadata": {},
   "outputs": [
    {
     "name": "stdout",
     "output_type": "stream",
     "text": [
      "City\n",
      "Abu Dhabi           182.000000\n",
      "Agra               1065.000000\n",
      "Ahmedabad           857.142857\n",
      "Albany               19.750000\n",
      "Allahabad           517.500000\n",
      "                      ...     \n",
      "Weirton              25.000000\n",
      "Wellington City      71.250000\n",
      "Winchester Bay       25.000000\n",
      "Yorkton              25.000000\n",
      "ÛÁstanbul            81.428571\n",
      "Name: Average Cost for two, Length: 141, dtype: float64\n"
     ]
    }
   ],
   "source": [
    "\n",
    "avg_per_city = df.groupby('City')['Average Cost for two'].mean()\n",
    "\n",
    "print(avg_per_city)\n"
   ]
  },
  {
   "cell_type": "code",
   "execution_count": null,
   "metadata": {},
   "outputs": [],
   "source": []
  }
 ],
 "metadata": {
  "kernelspec": {
   "display_name": "Python 3",
   "language": "python",
   "name": "python3"
  },
  "language_info": {
   "codemirror_mode": {
    "name": "ipython",
    "version": 3
   },
   "file_extension": ".py",
   "mimetype": "text/x-python",
   "name": "python",
   "nbconvert_exporter": "python",
   "pygments_lexer": "ipython3",
   "version": "3.12.0"
  }
 },
 "nbformat": 4,
 "nbformat_minor": 2
}
