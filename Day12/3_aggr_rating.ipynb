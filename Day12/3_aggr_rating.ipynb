{
 "cells": [
  {
   "cell_type": "code",
   "execution_count": 6,
   "metadata": {},
   "outputs": [],
   "source": [
    "import pandas as pd"
   ]
  },
  {
   "cell_type": "code",
   "execution_count": 7,
   "metadata": {},
   "outputs": [],
   "source": [
    "df = pd.read_csv(\"Zomato.csv\", encoding='latin1')"
   ]
  },
  {
   "cell_type": "code",
   "execution_count": 8,
   "metadata": {},
   "outputs": [],
   "source": [
    "max_rating = df.groupby('City')['Aggregate rating'].idxmax()"
   ]
  },
  {
   "cell_type": "code",
   "execution_count": 9,
   "metadata": {},
   "outputs": [
    {
     "name": "stdout",
     "output_type": "stream",
     "text": [
      "      Restaurant ID                           Restaurant Name  Country Code  \\\n",
      "580         5703500                              Punjab Grill           214   \n",
      "637         3400346                           Sheroes Hangout             1   \n",
      "653        18385201                                  Cryo Lab             1   \n",
      "89         17284409             Guang Zhou Chinese Restaurant           216   \n",
      "680         2400052                                    Eat On             1   \n",
      "...             ...                                       ...           ...   \n",
      "561        17694056  Theo Yianni's Authentic Greek Restaurant           216   \n",
      "9321        7101042                                The Hangar           148   \n",
      "562        17559793                 Fishpatrick's Crabby Cafe           216   \n",
      "563        16668008                             Arigato Sushi            37   \n",
      "9538        5901782                                 Starbucks           208   \n",
      "\n",
      "                 City                                            Address  \\\n",
      "580         Abu Dhabi  Venetian Village, Ritz Carlton Abu Dhabi, Gran...   \n",
      "637              Agra  Opposite The Gateway Hotel, Fatehabad Road, Ta...   \n",
      "653         Ahmedabad  Ground Floor, Arjun Avenue, Opposite Samarthes...   \n",
      "89             Albany             1214 N Westover Blvd, Albany, GA 31707   \n",
      "680         Allahabad  Palace Compound, Near Palace Cinema, MG Marg, ...   \n",
      "...               ...                                                ...   \n",
      "561           Weirton                322 American Way, Weirton, WV 26062   \n",
      "9321  Wellington City     171-177 Willis Street, Te Aro, Wellington City   \n",
      "562    Winchester Bay        196 Bayfront Loop, Winchester Bay, OR 97467   \n",
      "563           Yorkton           14 Second Ave North, Yorkton, SK S3N 1G1   \n",
      "9538        ÛÁstanbul  Bebek Mahallesi, Cevdetpaôa Caddesi, No 30/A,...   \n",
      "\n",
      "                         Locality                        Locality Verbose  \\\n",
      "580   Venetian Village, Al Maqtaa  Venetian Village, Al Maqtaa, Abu Dhabi   \n",
      "637                       Tajganj                           Tajganj, Agra   \n",
      "653                  Ellis Bridge                 Ellis Bridge, Ahmedabad   \n",
      "89                         Albany                          Albany, Albany   \n",
      "680                   Civil Lines                  Civil Lines, Allahabad   \n",
      "...                           ...                                     ...   \n",
      "561                       Weirton                        Weirton, Weirton   \n",
      "9321                       Te Aro                 Te Aro, Wellington City   \n",
      "562                Winchester Bay          Winchester Bay, Winchester Bay   \n",
      "563                       Yorkton                        Yorkton, Yorkton   \n",
      "9538                        Bebek                        Bebek, ÛÁstanbul   \n",
      "\n",
      "       Longitude   Latitude                     Cuisines  ...  \\\n",
      "580    54.487214  24.410615         Indian, North Indian  ...   \n",
      "637    78.040165  27.161850  Cafe, North Indian, Chinese  ...   \n",
      "653    72.559984  23.028748          Desserts, Ice Cream  ...   \n",
      "89    -84.209146  31.615519   Asian, Chinese, Vegetarian  ...   \n",
      "680    81.834236  25.450377                 North Indian  ...   \n",
      "...          ...        ...                          ...  ...   \n",
      "561   -80.529488  40.396043      Burger, Greek, Sandwich  ...   \n",
      "9321  174.773933 -41.290801                         Cafe  ...   \n",
      "562  -124.175346  43.678998       Burger, Seafood, Steak  ...   \n",
      "563  -102.461317  51.210682                        Asian  ...   \n",
      "9538   29.043734  41.077696                         Cafe  ...   \n",
      "\n",
      "                Currency Has Table booking Has Online delivery  \\\n",
      "580   Emirati Diram(AED)               Yes                  No   \n",
      "637   Indian Rupees(Rs.)                No                  No   \n",
      "653   Indian Rupees(Rs.)                No                  No   \n",
      "89             Dollar($)                No                  No   \n",
      "680   Indian Rupees(Rs.)                No                  No   \n",
      "...                  ...               ...                 ...   \n",
      "561            Dollar($)                No                  No   \n",
      "9321       NewZealand($)                No                  No   \n",
      "562            Dollar($)                No                  No   \n",
      "563            Dollar($)                No                  No   \n",
      "9538    Turkish Lira(TL)                No                  No   \n",
      "\n",
      "     Is delivering now Switch to order menu Price range  Aggregate rating  \\\n",
      "580                 No                   No           4               4.9   \n",
      "637                 No                   No           1               4.9   \n",
      "653                 No                   No           2               4.6   \n",
      "89                  No                   No           1               3.9   \n",
      "680                 No                   No           1               3.7   \n",
      "...                ...                  ...         ...               ...   \n",
      "561                 No                   No           2               3.9   \n",
      "9321                No                   No           3               4.6   \n",
      "562                 No                   No           2               3.2   \n",
      "563                 No                   No           2               3.3   \n",
      "9538                No                   No           2               4.9   \n",
      "\n",
      "      Rating color Rating text Votes  \n",
      "580     Dark Green   Excellent   216  \n",
      "637     Dark Green   Excellent    77  \n",
      "653     Dark Green   Excellent   166  \n",
      "89          Yellow        Good   141  \n",
      "680         Yellow        Good   105  \n",
      "...            ...         ...   ...  \n",
      "561         Yellow        Good   156  \n",
      "9321    Dark Green   Excellent   171  \n",
      "562         Orange     Average    16  \n",
      "563         Orange     Average    26  \n",
      "9538    Dark Green   Excellent  1042  \n",
      "\n",
      "[141 rows x 21 columns]\n"
     ]
    }
   ],
   "source": [
    "top_rated_rest = df.loc[max_rating]\n",
    "\n",
    "print(top_rated_rest)\n"
   ]
  },
  {
   "cell_type": "code",
   "execution_count": null,
   "metadata": {},
   "outputs": [],
   "source": []
  }
 ],
 "metadata": {
  "kernelspec": {
   "display_name": "Python 3",
   "language": "python",
   "name": "python3"
  },
  "language_info": {
   "codemirror_mode": {
    "name": "ipython",
    "version": 3
   },
   "file_extension": ".py",
   "mimetype": "text/x-python",
   "name": "python",
   "nbconvert_exporter": "python",
   "pygments_lexer": "ipython3",
   "version": "3.12.0"
  }
 },
 "nbformat": 4,
 "nbformat_minor": 2
}
