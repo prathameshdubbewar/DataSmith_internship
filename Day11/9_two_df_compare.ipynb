{
 "cells": [
  {
   "cell_type": "code",
   "execution_count": 7,
   "metadata": {},
   "outputs": [],
   "source": [
    "import pandas as pd\n",
    "import numpy as np\n"
   ]
  },
  {
   "cell_type": "code",
   "execution_count": 8,
   "metadata": {},
   "outputs": [],
   "source": [
    "\n",
    "data1 = np.random.randint(0, 10, (5, 3))\n",
    "data2 = np.random.randint(0, 10, (5, 3))\n",
    "\n",
    "df1 = pd.DataFrame(data1, columns=['A', 'B', 'C'])\n",
    "df2 = pd.DataFrame(data2, columns=['A', 'B', 'C'])\n"
   ]
  },
  {
   "cell_type": "code",
   "execution_count": 9,
   "metadata": {},
   "outputs": [
    {
     "data": {
      "text/plain": [
       "array([[1, 8, 4],\n",
       "       [2, 6, 3],\n",
       "       [9, 2, 2],\n",
       "       [7, 0, 0],\n",
       "       [8, 4, 4]])"
      ]
     },
     "execution_count": 9,
     "metadata": {},
     "output_type": "execute_result"
    }
   ],
   "source": [
    "data1"
   ]
  },
  {
   "cell_type": "code",
   "execution_count": 10,
   "metadata": {},
   "outputs": [
    {
     "data": {
      "text/plain": [
       "array([[0, 9, 3],\n",
       "       [0, 7, 1],\n",
       "       [9, 6, 8],\n",
       "       [3, 0, 6],\n",
       "       [7, 0, 3]])"
      ]
     },
     "execution_count": 10,
     "metadata": {},
     "output_type": "execute_result"
    }
   ],
   "source": [
    "data2"
   ]
  },
  {
   "cell_type": "code",
   "execution_count": 11,
   "metadata": {},
   "outputs": [
    {
     "name": "stdout",
     "output_type": "stream",
     "text": [
      "Rows where values differ: \n",
      "   A  B  C\n",
      "0  1  8  4\n",
      "1  2  6  3\n",
      "2  9  2  2\n",
      "3  7  0  0\n",
      "4  8  4  4\n"
     ]
    }
   ],
   "source": [
    "\n",
    "diff_rows = df1[df1.ne(df2).any(axis=1)]\n",
    "\n",
    "print(\"Rows where values differ: \")\n",
    "print(diff_rows)\n"
   ]
  },
  {
   "cell_type": "code",
   "execution_count": null,
   "metadata": {},
   "outputs": [],
   "source": []
  },
  {
   "cell_type": "code",
   "execution_count": null,
   "metadata": {},
   "outputs": [],
   "source": []
  }
 ],
 "metadata": {
  "kernelspec": {
   "display_name": "Python 3",
   "language": "python",
   "name": "python3"
  },
  "language_info": {
   "codemirror_mode": {
    "name": "ipython",
    "version": 3
   },
   "file_extension": ".py",
   "mimetype": "text/x-python",
   "name": "python",
   "nbconvert_exporter": "python",
   "pygments_lexer": "ipython3",
   "version": "3.12.0"
  }
 },
 "nbformat": 4,
 "nbformat_minor": 2
}
