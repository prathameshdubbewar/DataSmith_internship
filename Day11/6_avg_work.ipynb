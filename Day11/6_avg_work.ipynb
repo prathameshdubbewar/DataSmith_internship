{
 "cells": [
  {
   "cell_type": "code",
   "execution_count": null,
   "metadata": {},
   "outputs": [],
   "source": [
    "import pandas as pd\n"
   ]
  },
  {
   "cell_type": "code",
   "execution_count": null,
   "metadata": {},
   "outputs": [],
   "source": [
    "\n",
    "df = pd.read_csv('employee.csv')\n",
    "df.head()\n"
   ]
  },
  {
   "cell_type": "code",
   "execution_count": null,
   "metadata": {},
   "outputs": [],
   "source": [
    "df['date'] = pd.to_datetime(df['date'])\n",
    "\n",
    "avg_hrs_per_day = df.groupby('employee ID')['hours worked'].mean()\n",
    "\n",
    "\n",
    "employee_id = avg_hrs_per_day.idxmax()\n"
   ]
  },
  {
   "cell_type": "code",
   "execution_count": null,
   "metadata": {},
   "outputs": [],
   "source": [
    "\n",
    "max_hrs = avg_hrs_per_day.max()\n",
    "\n",
    "print(f\"Employee who has more working hrs is '{employee_id}' with working hrs of '{max(max_hrs)}' :\", )\n"
   ]
  }
 ],
 "metadata": {
  "language_info": {
   "name": "python"
  }
 },
 "nbformat": 4,
 "nbformat_minor": 2
}
